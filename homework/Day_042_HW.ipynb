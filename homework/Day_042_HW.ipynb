{
 "cells": [
  {
   "cell_type": "markdown",
   "metadata": {},
   "source": [
    "## [作業重點]\n",
    "目前你應該已經要很清楚資料集中，資料的型態是什麼樣子囉！包含特徵 (features) 與標籤 (labels)。因此要記得未來不管什麼專案，必須要把資料清理成相同的格式，才能送進模型訓練。\n",
    "今天的作業開始踏入決策樹這個非常重要的模型，請務必確保你理解模型中每個超參數的意思，並試著調整看看，對最終預測結果的影響為何"
   ]
  },
  {
   "cell_type": "markdown",
   "metadata": {},
   "source": [
    "## 作業\n",
    "\n",
    "1. 試著調整 DecisionTreeClassifier(...) 中的參數，並觀察是否會改變結果？\n",
    "2. 改用其他資料集 (boston, wine)，並與回歸模型的結果進行比較"
   ]
  },
  {
   "cell_type": "code",
   "execution_count": 10,
   "metadata": {},
   "outputs": [],
   "source": [
    "import numpy as np\n",
    "import pandas as pd\n",
    "import matplotlib.pyplot as plt\n",
    "from sklearn import datasets\n",
    "from sklearn.tree import DecisionTreeRegressor \n",
    "from sklearn.model_selection import train_test_split\n",
    "from sklearn.metrics import mean_squared_error"
   ]
  },
  {
   "cell_type": "code",
   "execution_count": 11,
   "metadata": {},
   "outputs": [],
   "source": [
    "boston = datasets.load_boston()"
   ]
  },
  {
   "cell_type": "code",
   "execution_count": 13,
   "metadata": {},
   "outputs": [
    {
     "name": "stdout",
     "output_type": "stream",
     "text": [
      "Mean squared error: 26.14\n"
     ]
    }
   ],
   "source": [
    "# DecisionTreeRegressor\n",
    "x_train, x_test, y_train, y_test = train_test_split(boston.data, boston.target, test_size = 0.2, random_state = 4)\n",
    "dtr = DecisionTreeRegressor()\n",
    "dtr.fit(x_train, y_train)\n",
    "\n",
    "y_pred = dtr.predict(x_test)\n",
    "\n",
    "print(\"Mean squared error: %.2f\"\n",
    "      % mean_squared_error(y_test, y_pred))"
   ]
  },
  {
   "cell_type": "code",
   "execution_count": 16,
   "metadata": {},
   "outputs": [
    {
     "name": "stdout",
     "output_type": "stream",
     "text": [
      "Features: ['CRIM' 'ZN' 'INDUS' 'CHAS' 'NOX' 'RM' 'AGE' 'DIS' 'RAD' 'TAX' 'PTRATIO'\n",
      " 'B' 'LSTAT']\n",
      "Feature importance:  [6.03519194e-02 1.07130852e-03 4.24389075e-03 0.00000000e+00\n",
      " 3.28033473e-02 5.80937593e-01 1.08262615e-02 5.22015331e-02\n",
      " 5.09675900e-04 1.54182156e-02 2.08872771e-02 8.27121765e-03\n",
      " 2.12477761e-01]\n"
     ]
    }
   ],
   "source": [
    "print(\"Features:\", boston.feature_names)\n",
    "print(\"Feature importance: \", dtr.feature_importances_)"
   ]
  },
  {
   "cell_type": "code",
   "execution_count": 17,
   "metadata": {},
   "outputs": [
    {
     "name": "stdout",
     "output_type": "stream",
     "text": [
      "[-1.14743504e-01  4.70875035e-02  8.70282354e-03  3.23818824e+00\n",
      " -1.67240567e+01  3.87662996e+00 -1.08218769e-02 -1.54144627e+00\n",
      "  2.92604151e-01 -1.33989537e-02 -9.07306805e-01  8.91271054e-03\n",
      " -4.58747039e-01]\n",
      "Mean squared error: 25.41\n"
     ]
    }
   ],
   "source": [
    "# 線性回歸\n",
    "from sklearn import linear_model\n",
    "x_train, x_test, y_train, y_test = train_test_split(boston.data, boston.target, test_size = 0.2, random_state = 4)\n",
    "regr = linear_model.LinearRegression()\n",
    "regr.fit(x_train, y_train)\n",
    "y_pred = regr.predict(x_test)\n",
    "print(regr.coef_)\n",
    "\n",
    "print(\"Mean squared error: %.2f\"\n",
    "      % mean_squared_error(y_test, y_pred))"
   ]
  },
  {
   "cell_type": "code",
   "execution_count": 20,
   "metadata": {},
   "outputs": [
    {
     "name": "stdout",
     "output_type": "stream",
     "text": [
      "Mean squared error: 23.62\n",
      "Features: ['CRIM' 'ZN' 'INDUS' 'CHAS' 'NOX' 'RM' 'AGE' 'DIS' 'RAD' 'TAX' 'PTRATIO'\n",
      " 'B' 'LSTAT']\n",
      "Feature importance:  [5.91177502e-02 3.69508361e-04 3.01716854e-04 1.87140833e-04\n",
      " 1.46225345e-02 5.86663446e-01 1.13233571e-02 5.31559734e-02\n",
      " 3.28222107e-04 1.78795576e-02 2.04175146e-02 2.38481115e-02\n",
      " 2.11785167e-01]\n"
     ]
    }
   ],
   "source": [
    "# DecisionTreeRegressor 改變參數\n",
    "x_train, x_test, y_train, y_test = train_test_split(boston.data, boston.target, test_size = 0.2, random_state = 4)\n",
    "dtr = DecisionTreeRegressor(max_depth = 10)\n",
    "dtr.fit(x_train, y_train)\n",
    "\n",
    "y_pred = dtr.predict(x_test)\n",
    "\n",
    "print(\"Mean squared error: %.2f\"\n",
    "      % mean_squared_error(y_test, y_pred))\n",
    "print(\"Features:\", boston.feature_names)\n",
    "print(\"Feature importance: \", dtr.feature_importances_)"
   ]
  },
  {
   "cell_type": "code",
   "execution_count": 33,
   "metadata": {},
   "outputs": [
    {
     "name": "stdout",
     "output_type": "stream",
     "text": [
      "Times: 1\n",
      "max_depth: 14\n",
      "Mean squared error: 25.74\n",
      "\n",
      "\n",
      "Times: 2\n",
      "max_depth: 13\n",
      "Mean squared error: 27.13\n",
      "\n",
      "\n",
      "Times: 3\n",
      "max_depth: 12\n",
      "Mean squared error: 25.05\n",
      "\n",
      "\n",
      "Times: 4\n",
      "max_depth: 11\n",
      "Mean squared error: 24.02\n",
      "\n",
      "\n",
      "Times: 5\n",
      "max_depth: 10\n",
      "Mean squared error: 25.07\n",
      "\n",
      "\n",
      "Times: 6\n",
      "max_depth: 9\n",
      "Mean squared error: 23.63\n",
      "\n",
      "\n",
      "Times: 7\n",
      "max_depth: 8\n",
      "Mean squared error: 25.56\n",
      "\n",
      "\n",
      "Times: 8\n",
      "max_depth: 7\n",
      "Mean squared error: 23.60\n",
      "\n",
      "\n",
      "Times: 9\n",
      "max_depth: 6\n",
      "Mean squared error: 25.89\n",
      "\n",
      "\n",
      "Times: 10\n",
      "max_depth: 5\n",
      "Mean squared error: 30.02\n",
      "\n",
      "\n",
      "Times: 11\n",
      "max_depth: 4\n",
      "Mean squared error: 28.79\n",
      "\n",
      "\n",
      "Times: 12\n",
      "max_depth: 3\n",
      "Mean squared error: 36.88\n",
      "\n",
      "\n",
      "Times: 13\n",
      "max_depth: 2\n",
      "Mean squared error: 38.35\n",
      "\n",
      "\n"
     ]
    }
   ],
   "source": [
    "x_train, x_test, y_train, y_test = train_test_split(boston.data, boston.target, test_size = 0.2, random_state = 4)\n",
    "\n",
    "num_var = len(boston.feature_names)\n",
    "\n",
    "count = 1\n",
    "for num in range(num_var + 1, 1, -1):\n",
    "    print(\"Times:\", count)\n",
    "    print(\"max_depth:\", num)\n",
    "    dtr = DecisionTreeRegressor(max_depth = num)\n",
    "    dtr.fit(x_train, y_train)\n",
    "    y_pred = dtr.predict(x_test)\n",
    "    MSE = mean_squared_error(y_test, y_pred)\n",
    "    print(\"Mean squared error: %.2f\" % MSE)\n",
    "    print('\\n')\n",
    "    \n",
    "    count += 1"
   ]
  },
  {
   "cell_type": "code",
   "execution_count": null,
   "metadata": {},
   "outputs": [],
   "source": []
  }
 ],
 "metadata": {
  "kernelspec": {
   "display_name": "Python 3",
   "language": "python",
   "name": "python3"
  },
  "language_info": {
   "codemirror_mode": {
    "name": "ipython",
    "version": 3
   },
   "file_extension": ".py",
   "mimetype": "text/x-python",
   "name": "python",
   "nbconvert_exporter": "python",
   "pygments_lexer": "ipython3",
   "version": "3.6.5"
  }
 },
 "nbformat": 4,
 "nbformat_minor": 2
}
